{
 "cells": [
  {
   "cell_type": "markdown",
   "metadata": {},
   "source": [
    "# Project 2: Ames Housing Data Analysis\n",
    "\n",
    "## Problem Statement\n",
    "\n",
    "We have seen over the years that ACT (a competitor) gain considerable market share in the US, with almost 35% of the states reporting 100% participation rates in graduaing high school seniors. The College Board, administrator of the SAT, wishes to increase participation rates to allow SAT to return to its status as the unanimous choice of exit exam. \n",
    "\n",
    "## Executive Summary\n",
    "\n",
    "Brought in as a consultant to help the SAT increase participation rates in the United States. In the last 2 years we observed some traction with the SAT. I aim to analyse the SAT/ACT data from 2017 to 2018 to generate actionable insights for the organisation to keep the momentum going and further increase participation rates.\n",
    "\n",
    "[ames_housing_data_import_and_cleaning.ipynb](./ames_housing_predictions.ipynb)\n",
    "### Notebooks:\n",
    "- [Housing Data Import & Cleaning](#Data-Import-and-Cleaning)\n",
    "- [Exploratory Data Analysis](#Exploratory-Data-Analysis)\n",
    "- [Data Visualization](#Visualize-the-data)\n",
    "- [Descriptive and Inferential Statistics](#Descriptive-and-Inferential-Statistics)\n",
    "- [Outside Research](#Outside-Research)\n",
    "- [Conclusions and Recommendations](#Conclusions-and-Recommendations)"
   ]
  },
  {
   "cell_type": "code",
   "execution_count": 1,
   "metadata": {
    "collapsed": true
   },
   "outputs": [],
   "source": [
    "#import libraries\n",
    "import numpy as np\n",
    "import pandas as pd\n",
    "import matplotlib.pyplot as plt\n",
    "\n",
    "%matplotlib inline"
   ]
  },
  {
   "cell_type": "code",
   "execution_count": null,
   "metadata": {
    "collapsed": true
   },
   "outputs": [],
   "source": [
    "#read data and import into notebook \n",
    "ames=pd.read_csv('../datasets/train.csv')"
   ]
  }
 ],
 "metadata": {
  "kernelspec": {
   "display_name": "Python 3",
   "language": "python",
   "name": "python3"
  },
  "language_info": {
   "codemirror_mode": {
    "name": "ipython",
    "version": 3
   },
   "file_extension": ".py",
   "mimetype": "text/x-python",
   "name": "python",
   "nbconvert_exporter": "python",
   "pygments_lexer": "ipython3",
   "version": "3.6.3"
  }
 },
 "nbformat": 4,
 "nbformat_minor": 2
}
