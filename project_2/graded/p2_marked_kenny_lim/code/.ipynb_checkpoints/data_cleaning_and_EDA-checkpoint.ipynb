{
 "cells": [
  {
   "cell_type": "markdown",
   "metadata": {},
   "source": [
    "# Project 2: Ames Housing Data Analysis\n",
    "\n",
    "## Problem Statement\n",
    "\n",
    "Given that the current pandemic has brought upon a recession, our real estate investment company would like to find out what are strong predictors of housing prices during these difficult times. To do so, we will be examining a similar turbulent period, which are the years of the subprime crisis. By using data during a similar hostile investment climate, we hope to be able to predict housing prices to guide the company's investment strategy.\n",
    "\n",
    "## Executive Summary\n",
    "\n",
    "As a newly hired data scientist, I have been tasked to predict housing prices so as to facilitate the investment decisions of the company. By analysing the given data, coupled with external research, I aim to to generate actionable insights for the organisation to achieve larger margins in their investment strategy.\n",
    "\n",
    "## Notebooks:\n",
    "- [Data Cleaning and Exploratory Data Analysis](./data_cleaning_and_EDA.ipynb)\n",
    "- [Preprocessing and Modeling](./preprocessing_modeling.ipynb)\n",
    "- [Evaluation and Conceptual Understanding](./eval_and_conceptual_understanding.ipynb)\n",
    "- [Conclusions and Recommendations](./conclusions_and_recommendations.ipynb)\n",
    "\n",
    "## Contents:\n",
    "- [Import Libraries](#Import-Libraries)\n",
    "- [Import Data](#Import-Data)\n",
    "- [Data Cleaning](#Data-Cleaning)\n",
    "- [Exploratory Data Analysis](#Exploratory-Data-Analysis)\n"
   ]
  },
  {
   "cell_type": "markdown",
   "metadata": {},
   "source": [
    "### Import Libraries"
   ]
  },
  {
   "cell_type": "code",
   "execution_count": 1,
   "metadata": {
    "collapsed": true
   },
   "outputs": [],
   "source": [
    "import numpy as np\n",
    "import pandas as pd\n",
    "import matplotlib.pyplot as plt\n",
    "\n",
    "%matplotlib inline"
   ]
  },
  {
   "cell_type": "markdown",
   "metadata": {},
   "source": [
    "### Import Data"
   ]
  },
  {
   "cell_type": "code",
   "execution_count": 2,
   "metadata": {
    "collapsed": true
   },
   "outputs": [],
   "source": [
    "#read data and import into notebook \n",
    "ames=pd.read_csv('../datasets/train.csv')"
   ]
  },
  {
   "cell_type": "code",
   "execution_count": 3,
   "metadata": {},
   "outputs": [
    {
     "data": {
      "text/plain": [
       "(2051, 81)"
      ]
     },
     "execution_count": 3,
     "metadata": {},
     "output_type": "execute_result"
    }
   ],
   "source": [
    "ames.shape"
   ]
  },
  {
   "cell_type": "code",
   "execution_count": 4,
   "metadata": {},
   "outputs": [
    {
     "data": {
      "text/html": [
       "<div>\n",
       "<style scoped>\n",
       "    .dataframe tbody tr th:only-of-type {\n",
       "        vertical-align: middle;\n",
       "    }\n",
       "\n",
       "    .dataframe tbody tr th {\n",
       "        vertical-align: top;\n",
       "    }\n",
       "\n",
       "    .dataframe thead th {\n",
       "        text-align: right;\n",
       "    }\n",
       "</style>\n",
       "<table border=\"1\" class=\"dataframe\">\n",
       "  <thead>\n",
       "    <tr style=\"text-align: right;\">\n",
       "      <th></th>\n",
       "      <th>Id</th>\n",
       "      <th>PID</th>\n",
       "      <th>MS SubClass</th>\n",
       "      <th>MS Zoning</th>\n",
       "      <th>Lot Frontage</th>\n",
       "      <th>Lot Area</th>\n",
       "      <th>Street</th>\n",
       "      <th>Alley</th>\n",
       "      <th>Lot Shape</th>\n",
       "      <th>Land Contour</th>\n",
       "      <th>...</th>\n",
       "      <th>Screen Porch</th>\n",
       "      <th>Pool Area</th>\n",
       "      <th>Pool QC</th>\n",
       "      <th>Fence</th>\n",
       "      <th>Misc Feature</th>\n",
       "      <th>Misc Val</th>\n",
       "      <th>Mo Sold</th>\n",
       "      <th>Yr Sold</th>\n",
       "      <th>Sale Type</th>\n",
       "      <th>SalePrice</th>\n",
       "    </tr>\n",
       "  </thead>\n",
       "  <tbody>\n",
       "    <tr>\n",
       "      <th>0</th>\n",
       "      <td>109</td>\n",
       "      <td>533352170</td>\n",
       "      <td>60</td>\n",
       "      <td>RL</td>\n",
       "      <td>NaN</td>\n",
       "      <td>13517</td>\n",
       "      <td>Pave</td>\n",
       "      <td>NaN</td>\n",
       "      <td>IR1</td>\n",
       "      <td>Lvl</td>\n",
       "      <td>...</td>\n",
       "      <td>0</td>\n",
       "      <td>0</td>\n",
       "      <td>NaN</td>\n",
       "      <td>NaN</td>\n",
       "      <td>NaN</td>\n",
       "      <td>0</td>\n",
       "      <td>3</td>\n",
       "      <td>2010</td>\n",
       "      <td>WD</td>\n",
       "      <td>130500</td>\n",
       "    </tr>\n",
       "    <tr>\n",
       "      <th>1</th>\n",
       "      <td>544</td>\n",
       "      <td>531379050</td>\n",
       "      <td>60</td>\n",
       "      <td>RL</td>\n",
       "      <td>43.0</td>\n",
       "      <td>11492</td>\n",
       "      <td>Pave</td>\n",
       "      <td>NaN</td>\n",
       "      <td>IR1</td>\n",
       "      <td>Lvl</td>\n",
       "      <td>...</td>\n",
       "      <td>0</td>\n",
       "      <td>0</td>\n",
       "      <td>NaN</td>\n",
       "      <td>NaN</td>\n",
       "      <td>NaN</td>\n",
       "      <td>0</td>\n",
       "      <td>4</td>\n",
       "      <td>2009</td>\n",
       "      <td>WD</td>\n",
       "      <td>220000</td>\n",
       "    </tr>\n",
       "    <tr>\n",
       "      <th>2</th>\n",
       "      <td>153</td>\n",
       "      <td>535304180</td>\n",
       "      <td>20</td>\n",
       "      <td>RL</td>\n",
       "      <td>68.0</td>\n",
       "      <td>7922</td>\n",
       "      <td>Pave</td>\n",
       "      <td>NaN</td>\n",
       "      <td>Reg</td>\n",
       "      <td>Lvl</td>\n",
       "      <td>...</td>\n",
       "      <td>0</td>\n",
       "      <td>0</td>\n",
       "      <td>NaN</td>\n",
       "      <td>NaN</td>\n",
       "      <td>NaN</td>\n",
       "      <td>0</td>\n",
       "      <td>1</td>\n",
       "      <td>2010</td>\n",
       "      <td>WD</td>\n",
       "      <td>109000</td>\n",
       "    </tr>\n",
       "    <tr>\n",
       "      <th>3</th>\n",
       "      <td>318</td>\n",
       "      <td>916386060</td>\n",
       "      <td>60</td>\n",
       "      <td>RL</td>\n",
       "      <td>73.0</td>\n",
       "      <td>9802</td>\n",
       "      <td>Pave</td>\n",
       "      <td>NaN</td>\n",
       "      <td>Reg</td>\n",
       "      <td>Lvl</td>\n",
       "      <td>...</td>\n",
       "      <td>0</td>\n",
       "      <td>0</td>\n",
       "      <td>NaN</td>\n",
       "      <td>NaN</td>\n",
       "      <td>NaN</td>\n",
       "      <td>0</td>\n",
       "      <td>4</td>\n",
       "      <td>2010</td>\n",
       "      <td>WD</td>\n",
       "      <td>174000</td>\n",
       "    </tr>\n",
       "    <tr>\n",
       "      <th>4</th>\n",
       "      <td>255</td>\n",
       "      <td>906425045</td>\n",
       "      <td>50</td>\n",
       "      <td>RL</td>\n",
       "      <td>82.0</td>\n",
       "      <td>14235</td>\n",
       "      <td>Pave</td>\n",
       "      <td>NaN</td>\n",
       "      <td>IR1</td>\n",
       "      <td>Lvl</td>\n",
       "      <td>...</td>\n",
       "      <td>0</td>\n",
       "      <td>0</td>\n",
       "      <td>NaN</td>\n",
       "      <td>NaN</td>\n",
       "      <td>NaN</td>\n",
       "      <td>0</td>\n",
       "      <td>3</td>\n",
       "      <td>2010</td>\n",
       "      <td>WD</td>\n",
       "      <td>138500</td>\n",
       "    </tr>\n",
       "  </tbody>\n",
       "</table>\n",
       "<p>5 rows × 81 columns</p>\n",
       "</div>"
      ],
      "text/plain": [
       "    Id        PID  MS SubClass MS Zoning  Lot Frontage  Lot Area Street Alley  \\\n",
       "0  109  533352170           60        RL           NaN     13517   Pave   NaN   \n",
       "1  544  531379050           60        RL          43.0     11492   Pave   NaN   \n",
       "2  153  535304180           20        RL          68.0      7922   Pave   NaN   \n",
       "3  318  916386060           60        RL          73.0      9802   Pave   NaN   \n",
       "4  255  906425045           50        RL          82.0     14235   Pave   NaN   \n",
       "\n",
       "  Lot Shape Land Contour  ... Screen Porch Pool Area Pool QC Fence  \\\n",
       "0       IR1          Lvl  ...            0         0     NaN   NaN   \n",
       "1       IR1          Lvl  ...            0         0     NaN   NaN   \n",
       "2       Reg          Lvl  ...            0         0     NaN   NaN   \n",
       "3       Reg          Lvl  ...            0         0     NaN   NaN   \n",
       "4       IR1          Lvl  ...            0         0     NaN   NaN   \n",
       "\n",
       "  Misc Feature Misc Val Mo Sold Yr Sold  Sale Type  SalePrice  \n",
       "0          NaN        0       3    2010        WD      130500  \n",
       "1          NaN        0       4    2009        WD      220000  \n",
       "2          NaN        0       1    2010        WD      109000  \n",
       "3          NaN        0       4    2010        WD      174000  \n",
       "4          NaN        0       3    2010        WD      138500  \n",
       "\n",
       "[5 rows x 81 columns]"
      ]
     },
     "execution_count": 4,
     "metadata": {},
     "output_type": "execute_result"
    }
   ],
   "source": [
    "ames.head()"
   ]
  },
  {
   "cell_type": "markdown",
   "metadata": {},
   "source": [
    "##### First observations:\n",
    "- Column names contain spacing and are capitalised\n",
    "- There are NaN values observed. Check for that\n",
    "- Check data types"
   ]
  },
  {
   "cell_type": "markdown",
   "metadata": {},
   "source": [
    "### Data Cleaning"
   ]
  },
  {
   "cell_type": "markdown",
   "metadata": {},
   "source": [
    "#### Rename Columns"
   ]
  },
  {
   "cell_type": "code",
   "execution_count": 5,
   "metadata": {
    "scrolled": false
   },
   "outputs": [
    {
     "data": {
      "text/html": [
       "<div>\n",
       "<style scoped>\n",
       "    .dataframe tbody tr th:only-of-type {\n",
       "        vertical-align: middle;\n",
       "    }\n",
       "\n",
       "    .dataframe tbody tr th {\n",
       "        vertical-align: top;\n",
       "    }\n",
       "\n",
       "    .dataframe thead th {\n",
       "        text-align: right;\n",
       "    }\n",
       "</style>\n",
       "<table border=\"1\" class=\"dataframe\">\n",
       "  <thead>\n",
       "    <tr style=\"text-align: right;\">\n",
       "      <th></th>\n",
       "      <th>id</th>\n",
       "      <th>pid</th>\n",
       "      <th>ms_subclass</th>\n",
       "      <th>ms_zoning</th>\n",
       "      <th>lot_frontage</th>\n",
       "      <th>lot_area</th>\n",
       "      <th>street</th>\n",
       "      <th>alley</th>\n",
       "      <th>lot_shape</th>\n",
       "      <th>land_contour</th>\n",
       "      <th>...</th>\n",
       "      <th>screen_porch</th>\n",
       "      <th>pool_area</th>\n",
       "      <th>pool_qc</th>\n",
       "      <th>fence</th>\n",
       "      <th>misc_feature</th>\n",
       "      <th>misc_val</th>\n",
       "      <th>mo_sold</th>\n",
       "      <th>yr_sold</th>\n",
       "      <th>sale_type</th>\n",
       "      <th>saleprice</th>\n",
       "    </tr>\n",
       "  </thead>\n",
       "  <tbody>\n",
       "    <tr>\n",
       "      <th>0</th>\n",
       "      <td>109</td>\n",
       "      <td>533352170</td>\n",
       "      <td>60</td>\n",
       "      <td>RL</td>\n",
       "      <td>NaN</td>\n",
       "      <td>13517</td>\n",
       "      <td>Pave</td>\n",
       "      <td>NaN</td>\n",
       "      <td>IR1</td>\n",
       "      <td>Lvl</td>\n",
       "      <td>...</td>\n",
       "      <td>0</td>\n",
       "      <td>0</td>\n",
       "      <td>NaN</td>\n",
       "      <td>NaN</td>\n",
       "      <td>NaN</td>\n",
       "      <td>0</td>\n",
       "      <td>3</td>\n",
       "      <td>2010</td>\n",
       "      <td>WD</td>\n",
       "      <td>130500</td>\n",
       "    </tr>\n",
       "    <tr>\n",
       "      <th>1</th>\n",
       "      <td>544</td>\n",
       "      <td>531379050</td>\n",
       "      <td>60</td>\n",
       "      <td>RL</td>\n",
       "      <td>43.0</td>\n",
       "      <td>11492</td>\n",
       "      <td>Pave</td>\n",
       "      <td>NaN</td>\n",
       "      <td>IR1</td>\n",
       "      <td>Lvl</td>\n",
       "      <td>...</td>\n",
       "      <td>0</td>\n",
       "      <td>0</td>\n",
       "      <td>NaN</td>\n",
       "      <td>NaN</td>\n",
       "      <td>NaN</td>\n",
       "      <td>0</td>\n",
       "      <td>4</td>\n",
       "      <td>2009</td>\n",
       "      <td>WD</td>\n",
       "      <td>220000</td>\n",
       "    </tr>\n",
       "    <tr>\n",
       "      <th>2</th>\n",
       "      <td>153</td>\n",
       "      <td>535304180</td>\n",
       "      <td>20</td>\n",
       "      <td>RL</td>\n",
       "      <td>68.0</td>\n",
       "      <td>7922</td>\n",
       "      <td>Pave</td>\n",
       "      <td>NaN</td>\n",
       "      <td>Reg</td>\n",
       "      <td>Lvl</td>\n",
       "      <td>...</td>\n",
       "      <td>0</td>\n",
       "      <td>0</td>\n",
       "      <td>NaN</td>\n",
       "      <td>NaN</td>\n",
       "      <td>NaN</td>\n",
       "      <td>0</td>\n",
       "      <td>1</td>\n",
       "      <td>2010</td>\n",
       "      <td>WD</td>\n",
       "      <td>109000</td>\n",
       "    </tr>\n",
       "    <tr>\n",
       "      <th>3</th>\n",
       "      <td>318</td>\n",
       "      <td>916386060</td>\n",
       "      <td>60</td>\n",
       "      <td>RL</td>\n",
       "      <td>73.0</td>\n",
       "      <td>9802</td>\n",
       "      <td>Pave</td>\n",
       "      <td>NaN</td>\n",
       "      <td>Reg</td>\n",
       "      <td>Lvl</td>\n",
       "      <td>...</td>\n",
       "      <td>0</td>\n",
       "      <td>0</td>\n",
       "      <td>NaN</td>\n",
       "      <td>NaN</td>\n",
       "      <td>NaN</td>\n",
       "      <td>0</td>\n",
       "      <td>4</td>\n",
       "      <td>2010</td>\n",
       "      <td>WD</td>\n",
       "      <td>174000</td>\n",
       "    </tr>\n",
       "    <tr>\n",
       "      <th>4</th>\n",
       "      <td>255</td>\n",
       "      <td>906425045</td>\n",
       "      <td>50</td>\n",
       "      <td>RL</td>\n",
       "      <td>82.0</td>\n",
       "      <td>14235</td>\n",
       "      <td>Pave</td>\n",
       "      <td>NaN</td>\n",
       "      <td>IR1</td>\n",
       "      <td>Lvl</td>\n",
       "      <td>...</td>\n",
       "      <td>0</td>\n",
       "      <td>0</td>\n",
       "      <td>NaN</td>\n",
       "      <td>NaN</td>\n",
       "      <td>NaN</td>\n",
       "      <td>0</td>\n",
       "      <td>3</td>\n",
       "      <td>2010</td>\n",
       "      <td>WD</td>\n",
       "      <td>138500</td>\n",
       "    </tr>\n",
       "  </tbody>\n",
       "</table>\n",
       "<p>5 rows × 81 columns</p>\n",
       "</div>"
      ],
      "text/plain": [
       "    id        pid  ms_subclass ms_zoning  lot_frontage  lot_area street alley  \\\n",
       "0  109  533352170           60        RL           NaN     13517   Pave   NaN   \n",
       "1  544  531379050           60        RL          43.0     11492   Pave   NaN   \n",
       "2  153  535304180           20        RL          68.0      7922   Pave   NaN   \n",
       "3  318  916386060           60        RL          73.0      9802   Pave   NaN   \n",
       "4  255  906425045           50        RL          82.0     14235   Pave   NaN   \n",
       "\n",
       "  lot_shape land_contour  ... screen_porch pool_area pool_qc fence  \\\n",
       "0       IR1          Lvl  ...            0         0     NaN   NaN   \n",
       "1       IR1          Lvl  ...            0         0     NaN   NaN   \n",
       "2       Reg          Lvl  ...            0         0     NaN   NaN   \n",
       "3       Reg          Lvl  ...            0         0     NaN   NaN   \n",
       "4       IR1          Lvl  ...            0         0     NaN   NaN   \n",
       "\n",
       "  misc_feature misc_val mo_sold yr_sold  sale_type  saleprice  \n",
       "0          NaN        0       3    2010        WD      130500  \n",
       "1          NaN        0       4    2009        WD      220000  \n",
       "2          NaN        0       1    2010        WD      109000  \n",
       "3          NaN        0       4    2010        WD      174000  \n",
       "4          NaN        0       3    2010        WD      138500  \n",
       "\n",
       "[5 rows x 81 columns]"
      ]
     },
     "execution_count": 5,
     "metadata": {},
     "output_type": "execute_result"
    }
   ],
   "source": [
    "#create a list of names for each column\n",
    "col_names=[col.lower().replace(' ','_') for col in ames.columns]\n",
    "#rename columns with list\n",
    "ames.columns=col_names\n",
    "#check changes\n",
    "ames.head()"
   ]
  },
  {
   "cell_type": "markdown",
   "metadata": {},
   "source": [
    "#### Null Values"
   ]
  },
  {
   "cell_type": "code",
   "execution_count": 6,
   "metadata": {
    "scrolled": false
   },
   "outputs": [
    {
     "data": {
      "text/plain": [
       "lot_frontage       330\n",
       "alley             1911\n",
       "mas_vnr_type        22\n",
       "mas_vnr_area        22\n",
       "bsmt_qual           55\n",
       "bsmt_cond           55\n",
       "bsmt_exposure       58\n",
       "bsmtfin_type_1      55\n",
       "bsmtfin_sf_1         1\n",
       "bsmtfin_type_2      56\n",
       "bsmtfin_sf_2         1\n",
       "bsmt_unf_sf          1\n",
       "total_bsmt_sf        1\n",
       "bsmt_full_bath       2\n",
       "bsmt_half_bath       2\n",
       "fireplace_qu      1000\n",
       "garage_type        113\n",
       "garage_yr_blt      114\n",
       "garage_finish      114\n",
       "garage_cars          1\n",
       "garage_area          1\n",
       "garage_qual        114\n",
       "garage_cond        114\n",
       "pool_qc           2042\n",
       "fence             1651\n",
       "misc_feature      1986\n",
       "dtype: int64"
      ]
     },
     "execution_count": 6,
     "metadata": {},
     "output_type": "execute_result"
    }
   ],
   "source": [
    "#check for null values\n",
    "#because the data set is really big, we first identify the columns that contain null values\n",
    "null_columns=ames.columns[ames.isnull().any()]\n",
    "#sum the number of null values in each column in null_columns\n",
    "ames[null_columns].isnull().sum()"
   ]
  },
  {
   "cell_type": "code",
   "execution_count": 7,
   "metadata": {},
   "outputs": [
    {
     "data": {
      "text/plain": [
       "(113, 6)"
      ]
     },
     "execution_count": 7,
     "metadata": {},
     "output_type": "execute_result"
    }
   ],
   "source": [
    "ames[ames['garage_type'].isnull()].loc[:,['garage_type','garage_yr_blt','garage_finish','garage_qual','garage_cond','garage_area']].shape\n",
    "#here we can see that all the null values in the garage_xxx series are all in the same 113 rows of data\n",
    "#since we likely wont be including these in our model, we will ignore the null values here first"
   ]
  },
  {
   "cell_type": "code",
   "execution_count": 8,
   "metadata": {
    "scrolled": true
   },
   "outputs": [
    {
     "data": {
      "text/plain": [
       "(58, 5)"
      ]
     },
     "execution_count": 8,
     "metadata": {},
     "output_type": "execute_result"
    }
   ],
   "source": [
    "ames[ames['bsmt_exposure'].isnull()].loc[:,['bsmt_qual','bsmt_cond','bsmt_exposure','bsmtfin_type_1','bsmtfin_type_2']].shape\n",
    "#here we can see that all the null values in the bsmt_xxx series are all in the same 53 rows of data\n",
    "#since we likely wont be including these in our model, we will ignore the null values here first"
   ]
  },
  {
   "cell_type": "markdown",
   "metadata": {},
   "source": [
    "##### Decisions for null values\n",
    "- For columns with 2 or less nulls, I will drop the rows with the null values since they are a small proportion of the dataset\n",
    "- For columns with extremely high numbers of nan such as alley, pool and misc_feature, we will be dropping these columns as the lack of data will be statistically insignificant and lead to dimensonality error/bias\n",
    "- For mas_vnr_xxx, it seems like there are missing values in mas_vnr_area because there is no mas_vnr in the house in the first place. We will change mas_vnr_type into dummy variables and replace nan to 0 in mas_vnr area\n",
    "- For certain columns such as fireplace_qu and fence, the NaN values actually represent a lack of the feature. Since get_dummies ignores nan values, we will leave them as is and convert to dummy variables afterwards. \n",
    "- Lastly, for continuous variables such as lot frontage, we will be imputing with mean values based on the lot shape and lot area\n"
   ]
  },
  {
   "cell_type": "code",
   "execution_count": 9,
   "metadata": {
    "collapsed": true
   },
   "outputs": [],
   "source": [
    "#since this row contains both the null values in garage_cars and area,\n",
    "#we will drop this row. \n",
    "ames.drop(list(ames[ames['garage_cars'].isnull()].index),inplace=True)"
   ]
  },
  {
   "cell_type": "code",
   "execution_count": 10,
   "metadata": {
    "collapsed": true
   },
   "outputs": [],
   "source": [
    "#since both row contains both the null values in bsmt_full_bath and bsmt_half_bath,\n",
    "#we will drop these rows. \n",
    "ames.drop(list(ames[ames['bsmt_full_bath'].isnull()].index),inplace=True)"
   ]
  },
  {
   "cell_type": "code",
   "execution_count": 11,
   "metadata": {},
   "outputs": [
    {
     "data": {
      "text/plain": [
       "(2048, 81)"
      ]
     },
     "execution_count": 11,
     "metadata": {},
     "output_type": "execute_result"
    }
   ],
   "source": [
    "ames.shape\n",
    "#3 rows dropped from above"
   ]
  },
  {
   "cell_type": "code",
   "execution_count": 12,
   "metadata": {},
   "outputs": [
    {
     "data": {
      "text/plain": [
       "(2048, 78)"
      ]
     },
     "execution_count": 12,
     "metadata": {},
     "output_type": "execute_result"
    }
   ],
   "source": [
    "ames.drop(['alley','pool_qc','misc_feature'],axis=1,inplace=True)\n",
    "ames.shape\n",
    "#dropped 3 columns"
   ]
  },
  {
   "cell_type": "code",
   "execution_count": 13,
   "metadata": {},
   "outputs": [
    {
     "data": {
      "text/plain": [
       "(2048, 80)"
      ]
     },
     "execution_count": 13,
     "metadata": {},
     "output_type": "execute_result"
    }
   ],
   "source": [
    "#convert mas_vnr_type to dummy variable\n",
    "ames['mas_vnr_type'].unique()\n",
    "\n",
    "#first, we replace all 'None' with NaN so that get_dummies will know to ignore\n",
    "ames['mas_vnr_type'].replace('None',inplace=True)\n",
    "\n",
    "#now we will create dummy variables\n",
    "mass_vnr_dums=pd.get_dummies(ames['mas_vnr_type'],prefix='mas_vnr')\n",
    "#concat to ames df\n",
    "ames=pd.concat([ames,mass_vnr_dums],axis=1)\n",
    "\n",
    "#drop mas_vnr_type column\n",
    "ames.drop('mas_vnr_type',axis=1,inplace=True)\n",
    "ames.shape"
   ]
  },
  {
   "cell_type": "code",
   "execution_count": 14,
   "metadata": {
    "collapsed": true
   },
   "outputs": [],
   "source": [
    "#replace nan with 0.0 in mas_vnr_area\n",
    "ames['mas_vnr_area'].fillna(0.0,inplace=True)"
   ]
  },
  {
   "cell_type": "code",
   "execution_count": 15,
   "metadata": {
    "collapsed": true
   },
   "outputs": [],
   "source": [
    "#converting other variables to dummy variables\n",
    "ames['fireplace_qu'].unique()\n",
    "ames['fence'].unique()\n",
    "\n",
    "#now that we have checked that NaN means that there is no fence, we can convert them to dummy variables\n",
    "fireplace_qu_dums=pd.get_dummies(ames['fireplace_qu'],prefix='fireplace_qu')\n",
    "fence_dums=pd.get_dummies(ames['fence'],prefix='fence')\n",
    "\n",
    "#concat to ames df\n",
    "ames=pd.concat([ames,fireplace_qu_dums,fence_dums],axis=1)\n",
    "#drop orignal columns\n",
    "ames.drop(['fireplace_qu','fence'],axis=1,inplace=True)"
   ]
  },
  {
   "cell_type": "code",
   "execution_count": 16,
   "metadata": {},
   "outputs": [
    {
     "data": {
      "text/plain": [
       "(2048, 87)"
      ]
     },
     "execution_count": 16,
     "metadata": {},
     "output_type": "execute_result"
    }
   ],
   "source": [
    "#check for changes\n",
    "ames.shape"
   ]
  },
  {
   "cell_type": "code",
   "execution_count": 17,
   "metadata": {},
   "outputs": [
    {
     "data": {
      "text/html": [
       "<div>\n",
       "<style scoped>\n",
       "    .dataframe tbody tr th:only-of-type {\n",
       "        vertical-align: middle;\n",
       "    }\n",
       "\n",
       "    .dataframe tbody tr th {\n",
       "        vertical-align: top;\n",
       "    }\n",
       "\n",
       "    .dataframe thead th {\n",
       "        text-align: right;\n",
       "    }\n",
       "</style>\n",
       "<table border=\"1\" class=\"dataframe\">\n",
       "  <thead>\n",
       "    <tr style=\"text-align: right;\">\n",
       "      <th></th>\n",
       "      <th>lot_frontage</th>\n",
       "      <th>lot_area</th>\n",
       "      <th>area_frontage_ratio</th>\n",
       "    </tr>\n",
       "    <tr>\n",
       "      <th>lot_shape</th>\n",
       "      <th></th>\n",
       "      <th></th>\n",
       "      <th></th>\n",
       "    </tr>\n",
       "  </thead>\n",
       "  <tbody>\n",
       "    <tr>\n",
       "      <th>IR1</th>\n",
       "      <td>74.426124</td>\n",
       "      <td>11427.223188</td>\n",
       "      <td>153.537798</td>\n",
       "    </tr>\n",
       "    <tr>\n",
       "      <th>IR2</th>\n",
       "      <td>59.416667</td>\n",
       "      <td>19995.454545</td>\n",
       "      <td>336.529389</td>\n",
       "    </tr>\n",
       "    <tr>\n",
       "      <th>IR3</th>\n",
       "      <td>115.666667</td>\n",
       "      <td>21102.222222</td>\n",
       "      <td>182.439962</td>\n",
       "    </tr>\n",
       "    <tr>\n",
       "      <th>Reg</th>\n",
       "      <td>66.982630</td>\n",
       "      <td>8815.518547</td>\n",
       "      <td>131.609023</td>\n",
       "    </tr>\n",
       "  </tbody>\n",
       "</table>\n",
       "</div>"
      ],
      "text/plain": [
       "           lot_frontage      lot_area  area_frontage_ratio\n",
       "lot_shape                                                 \n",
       "IR1           74.426124  11427.223188           153.537798\n",
       "IR2           59.416667  19995.454545           336.529389\n",
       "IR3          115.666667  21102.222222           182.439962\n",
       "Reg           66.982630   8815.518547           131.609023"
      ]
     },
     "execution_count": 17,
     "metadata": {},
     "output_type": "execute_result"
    }
   ],
   "source": [
    "#lastly, we will take a look at the lot_frontage data\n",
    "ames['lot_frontage'].unique()\n",
    "lots=ames[['lot_frontage','lot_area','lot_shape','lot_config']]\n",
    "#using external research, we have determined that the shape of the lot will give us an accurate \n",
    "#estimation of the lot frontage\n",
    "\n",
    "#firstly, we groupby lot shape to see the mean of lot area and frontage\n",
    "lot_shapes=lots.groupby('lot_shape').mean()\n",
    "\n",
    "#next, we calculate a ratio to help determine the missing lot frontage based on\n",
    "#lot shape and lot\n",
    "lot_shapes['area_frontage_ratio']=lot_shapes['lot_area']/lot_shapes['lot_frontage']\n",
    "lot_shapes"
   ]
  },
  {
   "cell_type": "code",
   "execution_count": 18,
   "metadata": {
    "collapsed": true
   },
   "outputs": [],
   "source": [
    "#now we replace the null values with the new values\n",
    "for index in ames[ames['lot_frontage'].isnull()].index:\n",
    "    ames.loc[index,'lot_frontage']=ames.loc[index,'lot_area']/lot_shapes.loc[ames.loc[index,'lot_shape'],'area_frontage_ratio']"
   ]
  },
  {
   "cell_type": "markdown",
   "metadata": {},
   "source": [
    "#### Other Data Cleaning"
   ]
  },
  {
   "cell_type": "code",
   "execution_count": 19,
   "metadata": {
    "scrolled": false
   },
   "outputs": [
    {
     "data": {
      "text/plain": [
       "array(['RL', 'RM', 'FV', 'C (all)', 'A (agr)', 'RH', 'I (all)'],\n",
       "      dtype=object)"
      ]
     },
     "execution_count": 19,
     "metadata": {},
     "output_type": "execute_result"
    }
   ],
   "source": [
    "#check for the types of zoning classification\n",
    "ames['ms_zoning'].unique()"
   ]
  },
  {
   "cell_type": "code",
   "execution_count": 20,
   "metadata": {},
   "outputs": [
    {
     "data": {
      "text/plain": [
       "(2028, 87)"
      ]
     },
     "execution_count": 20,
     "metadata": {},
     "output_type": "execute_result"
    }
   ],
   "source": [
    "#find all transactions that are commercial and industrial -> 20 rows\n",
    "ames[(ames['ms_zoning']=='C (all)')|(ames['ms_zoning']=='I (all)')]\n",
    "#we will drop these rows as it could affect the residential sale prices\n",
    "ames.drop(list(ames[(ames['ms_zoning']=='C (all)')|(ames['ms_zoning']=='I (all)')].index),axis=0,inplace=True)\n",
    "ames.shape"
   ]
  },
  {
   "cell_type": "code",
   "execution_count": 21,
   "metadata": {
    "scrolled": true
   },
   "outputs": [
    {
     "name": "stdout",
     "output_type": "stream",
     "text": [
      "id\n",
      "pid\n",
      "ms_subclass\n",
      "ms_zoning\n",
      "lot_frontage\n",
      "lot_area\n",
      "street\n",
      "lot_shape\n",
      "land_contour\n",
      "utilities\n",
      "lot_config\n",
      "land_slope\n",
      "neighborhood\n",
      "condition_1\n",
      "condition_2\n",
      "bldg_type\n",
      "house_style\n",
      "overall_qual\n",
      "overall_cond\n",
      "year_built\n",
      "year_remod/add\n",
      "roof_style\n",
      "roof_matl\n",
      "exterior_1st\n",
      "exterior_2nd\n",
      "mas_vnr_area\n",
      "exter_qual\n",
      "exter_cond\n",
      "foundation\n",
      "bsmt_qual\n",
      "bsmt_cond\n",
      "bsmt_exposure\n",
      "bsmtfin_type_1\n",
      "bsmtfin_sf_1\n",
      "bsmtfin_type_2\n",
      "bsmtfin_sf_2\n",
      "bsmt_unf_sf\n",
      "total_bsmt_sf\n",
      "heating\n",
      "heating_qc\n",
      "central_air\n",
      "electrical\n",
      "1st_flr_sf\n",
      "2nd_flr_sf\n",
      "low_qual_fin_sf\n",
      "gr_liv_area\n",
      "bsmt_full_bath\n",
      "bsmt_half_bath\n",
      "full_bath\n",
      "half_bath\n",
      "bedroom_abvgr\n",
      "kitchen_abvgr\n",
      "kitchen_qual\n",
      "totrms_abvgrd\n",
      "functional\n",
      "fireplaces\n",
      "garage_type\n",
      "garage_yr_blt\n",
      "garage_finish\n",
      "garage_cars\n",
      "garage_area\n",
      "garage_qual\n",
      "garage_cond\n",
      "paved_drive\n",
      "wood_deck_sf\n",
      "open_porch_sf\n",
      "enclosed_porch\n",
      "3ssn_porch\n",
      "screen_porch\n",
      "pool_area\n",
      "misc_val\n",
      "mo_sold\n",
      "yr_sold\n",
      "sale_type\n",
      "saleprice\n",
      "mas_vnr_BrkCmn\n",
      "mas_vnr_BrkFace\n",
      "mas_vnr_Stone\n",
      "fireplace_qu_Ex\n",
      "fireplace_qu_Fa\n",
      "fireplace_qu_Gd\n",
      "fireplace_qu_Po\n",
      "fireplace_qu_TA\n",
      "fence_GdPrv\n",
      "fence_GdWo\n",
      "fence_MnPrv\n",
      "fence_MnWw\n"
     ]
    }
   ],
   "source": [
    "#see all columns\n",
    "for column in ames.columns:\n",
    "    print(column)"
   ]
  },
  {
   "cell_type": "markdown",
   "metadata": {},
   "source": [
    "### Exploratory Data Analysis"
   ]
  },
  {
   "cell_type": "code",
   "execution_count": 22,
   "metadata": {
    "scrolled": true
   },
   "outputs": [
    {
     "data": {
      "text/html": [
       "<div>\n",
       "<style scoped>\n",
       "    .dataframe tbody tr th:only-of-type {\n",
       "        vertical-align: middle;\n",
       "    }\n",
       "\n",
       "    .dataframe tbody tr th {\n",
       "        vertical-align: top;\n",
       "    }\n",
       "\n",
       "    .dataframe thead th {\n",
       "        text-align: right;\n",
       "    }\n",
       "</style>\n",
       "<table border=\"1\" class=\"dataframe\">\n",
       "  <thead>\n",
       "    <tr style=\"text-align: right;\">\n",
       "      <th></th>\n",
       "      <th>count</th>\n",
       "      <th>mean</th>\n",
       "      <th>std</th>\n",
       "      <th>min</th>\n",
       "      <th>25%</th>\n",
       "      <th>50%</th>\n",
       "      <th>75%</th>\n",
       "      <th>max</th>\n",
       "    </tr>\n",
       "  </thead>\n",
       "  <tbody>\n",
       "    <tr>\n",
       "      <th>id</th>\n",
       "      <td>2028.0</td>\n",
       "      <td>1.472260e+03</td>\n",
       "      <td>8.425900e+02</td>\n",
       "      <td>1.000000e+00</td>\n",
       "      <td>7.537500e+02</td>\n",
       "      <td>1480.5</td>\n",
       "      <td>2.190750e+03</td>\n",
       "      <td>2.930000e+03</td>\n",
       "    </tr>\n",
       "    <tr>\n",
       "      <th>pid</th>\n",
       "      <td>2028.0</td>\n",
       "      <td>7.113676e+08</td>\n",
       "      <td>1.885943e+08</td>\n",
       "      <td>5.263011e+08</td>\n",
       "      <td>5.284580e+08</td>\n",
       "      <td>535451105.0</td>\n",
       "      <td>9.071311e+08</td>\n",
       "      <td>9.241520e+08</td>\n",
       "    </tr>\n",
       "    <tr>\n",
       "      <th>ms_subclass</th>\n",
       "      <td>2028.0</td>\n",
       "      <td>5.706000e+01</td>\n",
       "      <td>4.279000e+01</td>\n",
       "      <td>2.000000e+01</td>\n",
       "      <td>2.000000e+01</td>\n",
       "      <td>50.0</td>\n",
       "      <td>7.000000e+01</td>\n",
       "      <td>1.900000e+02</td>\n",
       "    </tr>\n",
       "    <tr>\n",
       "      <th>lot_frontage</th>\n",
       "      <td>2028.0</td>\n",
       "      <td>7.036000e+01</td>\n",
       "      <td>2.980000e+01</td>\n",
       "      <td>1.165000e+01</td>\n",
       "      <td>5.700000e+01</td>\n",
       "      <td>68.0</td>\n",
       "      <td>8.000000e+01</td>\n",
       "      <td>4.724700e+02</td>\n",
       "    </tr>\n",
       "    <tr>\n",
       "      <th>lot_area</th>\n",
       "      <td>2028.0</td>\n",
       "      <td>1.005968e+04</td>\n",
       "      <td>6.720860e+03</td>\n",
       "      <td>1.300000e+03</td>\n",
       "      <td>7.500000e+03</td>\n",
       "      <td>9465.0</td>\n",
       "      <td>1.155550e+04</td>\n",
       "      <td>1.590000e+05</td>\n",
       "    </tr>\n",
       "    <tr>\n",
       "      <th>overall_qual</th>\n",
       "      <td>2028.0</td>\n",
       "      <td>6.140000e+00</td>\n",
       "      <td>1.410000e+00</td>\n",
       "      <td>1.000000e+00</td>\n",
       "      <td>5.000000e+00</td>\n",
       "      <td>6.0</td>\n",
       "      <td>7.000000e+00</td>\n",
       "      <td>1.000000e+01</td>\n",
       "    </tr>\n",
       "    <tr>\n",
       "      <th>overall_cond</th>\n",
       "      <td>2028.0</td>\n",
       "      <td>5.560000e+00</td>\n",
       "      <td>1.100000e+00</td>\n",
       "      <td>1.000000e+00</td>\n",
       "      <td>5.000000e+00</td>\n",
       "      <td>5.0</td>\n",
       "      <td>6.000000e+00</td>\n",
       "      <td>9.000000e+00</td>\n",
       "    </tr>\n",
       "    <tr>\n",
       "      <th>year_built</th>\n",
       "      <td>2028.0</td>\n",
       "      <td>1.972250e+03</td>\n",
       "      <td>2.984000e+01</td>\n",
       "      <td>1.872000e+03</td>\n",
       "      <td>1.954000e+03</td>\n",
       "      <td>1975.0</td>\n",
       "      <td>2.001000e+03</td>\n",
       "      <td>2.010000e+03</td>\n",
       "    </tr>\n",
       "    <tr>\n",
       "      <th>year_remod/add</th>\n",
       "      <td>2028.0</td>\n",
       "      <td>1.984440e+03</td>\n",
       "      <td>2.091000e+01</td>\n",
       "      <td>1.950000e+03</td>\n",
       "      <td>1.965000e+03</td>\n",
       "      <td>1993.0</td>\n",
       "      <td>2.004000e+03</td>\n",
       "      <td>2.010000e+03</td>\n",
       "    </tr>\n",
       "    <tr>\n",
       "      <th>mas_vnr_area</th>\n",
       "      <td>2028.0</td>\n",
       "      <td>9.975000e+01</td>\n",
       "      <td>1.749900e+02</td>\n",
       "      <td>0.000000e+00</td>\n",
       "      <td>0.000000e+00</td>\n",
       "      <td>0.0</td>\n",
       "      <td>1.612500e+02</td>\n",
       "      <td>1.600000e+03</td>\n",
       "    </tr>\n",
       "    <tr>\n",
       "      <th>bsmtfin_sf_1</th>\n",
       "      <td>2028.0</td>\n",
       "      <td>4.454100e+02</td>\n",
       "      <td>4.617200e+02</td>\n",
       "      <td>0.000000e+00</td>\n",
       "      <td>0.000000e+00</td>\n",
       "      <td>372.5</td>\n",
       "      <td>7.362500e+02</td>\n",
       "      <td>5.644000e+03</td>\n",
       "    </tr>\n",
       "    <tr>\n",
       "      <th>bsmtfin_sf_2</th>\n",
       "      <td>2028.0</td>\n",
       "      <td>4.848000e+01</td>\n",
       "      <td>1.658200e+02</td>\n",
       "      <td>0.000000e+00</td>\n",
       "      <td>0.000000e+00</td>\n",
       "      <td>0.0</td>\n",
       "      <td>0.000000e+00</td>\n",
       "      <td>1.474000e+03</td>\n",
       "    </tr>\n",
       "    <tr>\n",
       "      <th>bsmt_unf_sf</th>\n",
       "      <td>2028.0</td>\n",
       "      <td>5.691900e+02</td>\n",
       "      <td>4.457000e+02</td>\n",
       "      <td>0.000000e+00</td>\n",
       "      <td>2.217500e+02</td>\n",
       "      <td>475.0</td>\n",
       "      <td>8.115000e+02</td>\n",
       "      <td>2.336000e+03</td>\n",
       "    </tr>\n",
       "    <tr>\n",
       "      <th>total_bsmt_sf</th>\n",
       "      <td>2028.0</td>\n",
       "      <td>1.063070e+03</td>\n",
       "      <td>4.477900e+02</td>\n",
       "      <td>0.000000e+00</td>\n",
       "      <td>7.960000e+02</td>\n",
       "      <td>1001.0</td>\n",
       "      <td>1.325250e+03</td>\n",
       "      <td>6.110000e+03</td>\n",
       "    </tr>\n",
       "    <tr>\n",
       "      <th>1st_flr_sf</th>\n",
       "      <td>2028.0</td>\n",
       "      <td>1.166620e+03</td>\n",
       "      <td>3.925000e+02</td>\n",
       "      <td>3.340000e+02</td>\n",
       "      <td>8.820000e+02</td>\n",
       "      <td>1096.0</td>\n",
       "      <td>1.411000e+03</td>\n",
       "      <td>5.095000e+03</td>\n",
       "    </tr>\n",
       "    <tr>\n",
       "      <th>2nd_flr_sf</th>\n",
       "      <td>2028.0</td>\n",
       "      <td>3.306300e+02</td>\n",
       "      <td>4.266900e+02</td>\n",
       "      <td>0.000000e+00</td>\n",
       "      <td>0.000000e+00</td>\n",
       "      <td>0.0</td>\n",
       "      <td>6.985000e+02</td>\n",
       "      <td>1.862000e+03</td>\n",
       "    </tr>\n",
       "    <tr>\n",
       "      <th>low_qual_fin_sf</th>\n",
       "      <td>2028.0</td>\n",
       "      <td>5.320000e+00</td>\n",
       "      <td>5.010000e+01</td>\n",
       "      <td>0.000000e+00</td>\n",
       "      <td>0.000000e+00</td>\n",
       "      <td>0.0</td>\n",
       "      <td>0.000000e+00</td>\n",
       "      <td>1.064000e+03</td>\n",
       "    </tr>\n",
       "    <tr>\n",
       "      <th>gr_liv_area</th>\n",
       "      <td>2028.0</td>\n",
       "      <td>1.502570e+03</td>\n",
       "      <td>4.973600e+02</td>\n",
       "      <td>3.340000e+02</td>\n",
       "      <td>1.135750e+03</td>\n",
       "      <td>1452.5</td>\n",
       "      <td>1.731250e+03</td>\n",
       "      <td>5.642000e+03</td>\n",
       "    </tr>\n",
       "    <tr>\n",
       "      <th>bsmt_full_bath</th>\n",
       "      <td>2028.0</td>\n",
       "      <td>4.300000e-01</td>\n",
       "      <td>5.200000e-01</td>\n",
       "      <td>0.000000e+00</td>\n",
       "      <td>0.000000e+00</td>\n",
       "      <td>0.0</td>\n",
       "      <td>1.000000e+00</td>\n",
       "      <td>3.000000e+00</td>\n",
       "    </tr>\n",
       "    <tr>\n",
       "      <th>bsmt_half_bath</th>\n",
       "      <td>2028.0</td>\n",
       "      <td>6.000000e-02</td>\n",
       "      <td>2.500000e-01</td>\n",
       "      <td>0.000000e+00</td>\n",
       "      <td>0.000000e+00</td>\n",
       "      <td>0.0</td>\n",
       "      <td>0.000000e+00</td>\n",
       "      <td>2.000000e+00</td>\n",
       "    </tr>\n",
       "    <tr>\n",
       "      <th>full_bath</th>\n",
       "      <td>2028.0</td>\n",
       "      <td>1.580000e+00</td>\n",
       "      <td>5.500000e-01</td>\n",
       "      <td>0.000000e+00</td>\n",
       "      <td>1.000000e+00</td>\n",
       "      <td>2.0</td>\n",
       "      <td>2.000000e+00</td>\n",
       "      <td>4.000000e+00</td>\n",
       "    </tr>\n",
       "    <tr>\n",
       "      <th>half_bath</th>\n",
       "      <td>2028.0</td>\n",
       "      <td>3.700000e-01</td>\n",
       "      <td>5.000000e-01</td>\n",
       "      <td>0.000000e+00</td>\n",
       "      <td>0.000000e+00</td>\n",
       "      <td>0.0</td>\n",
       "      <td>1.000000e+00</td>\n",
       "      <td>2.000000e+00</td>\n",
       "    </tr>\n",
       "    <tr>\n",
       "      <th>bedroom_abvgr</th>\n",
       "      <td>2028.0</td>\n",
       "      <td>2.850000e+00</td>\n",
       "      <td>8.200000e-01</td>\n",
       "      <td>0.000000e+00</td>\n",
       "      <td>2.000000e+00</td>\n",
       "      <td>3.0</td>\n",
       "      <td>3.000000e+00</td>\n",
       "      <td>8.000000e+00</td>\n",
       "    </tr>\n",
       "    <tr>\n",
       "      <th>kitchen_abvgr</th>\n",
       "      <td>2028.0</td>\n",
       "      <td>1.040000e+00</td>\n",
       "      <td>2.100000e-01</td>\n",
       "      <td>0.000000e+00</td>\n",
       "      <td>1.000000e+00</td>\n",
       "      <td>1.0</td>\n",
       "      <td>1.000000e+00</td>\n",
       "      <td>3.000000e+00</td>\n",
       "    </tr>\n",
       "    <tr>\n",
       "      <th>totrms_abvgrd</th>\n",
       "      <td>2028.0</td>\n",
       "      <td>6.440000e+00</td>\n",
       "      <td>1.560000e+00</td>\n",
       "      <td>2.000000e+00</td>\n",
       "      <td>5.000000e+00</td>\n",
       "      <td>6.0</td>\n",
       "      <td>7.000000e+00</td>\n",
       "      <td>1.500000e+01</td>\n",
       "    </tr>\n",
       "    <tr>\n",
       "      <th>fireplaces</th>\n",
       "      <td>2028.0</td>\n",
       "      <td>6.000000e-01</td>\n",
       "      <td>6.400000e-01</td>\n",
       "      <td>0.000000e+00</td>\n",
       "      <td>0.000000e+00</td>\n",
       "      <td>1.0</td>\n",
       "      <td>1.000000e+00</td>\n",
       "      <td>4.000000e+00</td>\n",
       "    </tr>\n",
       "    <tr>\n",
       "      <th>garage_yr_blt</th>\n",
       "      <td>1923.0</td>\n",
       "      <td>1.978920e+03</td>\n",
       "      <td>2.528000e+01</td>\n",
       "      <td>1.900000e+03</td>\n",
       "      <td>1.961000e+03</td>\n",
       "      <td>1980.0</td>\n",
       "      <td>2.002000e+03</td>\n",
       "      <td>2.207000e+03</td>\n",
       "    </tr>\n",
       "    <tr>\n",
       "      <th>garage_cars</th>\n",
       "      <td>2028.0</td>\n",
       "      <td>1.790000e+00</td>\n",
       "      <td>7.600000e-01</td>\n",
       "      <td>0.000000e+00</td>\n",
       "      <td>1.000000e+00</td>\n",
       "      <td>2.0</td>\n",
       "      <td>2.000000e+00</td>\n",
       "      <td>5.000000e+00</td>\n",
       "    </tr>\n",
       "    <tr>\n",
       "      <th>garage_area</th>\n",
       "      <td>2028.0</td>\n",
       "      <td>4.761600e+02</td>\n",
       "      <td>2.144600e+02</td>\n",
       "      <td>0.000000e+00</td>\n",
       "      <td>3.267500e+02</td>\n",
       "      <td>480.0</td>\n",
       "      <td>5.760000e+02</td>\n",
       "      <td>1.418000e+03</td>\n",
       "    </tr>\n",
       "    <tr>\n",
       "      <th>wood_deck_sf</th>\n",
       "      <td>2028.0</td>\n",
       "      <td>9.463000e+01</td>\n",
       "      <td>1.289400e+02</td>\n",
       "      <td>0.000000e+00</td>\n",
       "      <td>0.000000e+00</td>\n",
       "      <td>0.0</td>\n",
       "      <td>1.680000e+02</td>\n",
       "      <td>1.424000e+03</td>\n",
       "    </tr>\n",
       "    <tr>\n",
       "      <th>open_porch_sf</th>\n",
       "      <td>2028.0</td>\n",
       "      <td>4.730000e+01</td>\n",
       "      <td>6.515000e+01</td>\n",
       "      <td>0.000000e+00</td>\n",
       "      <td>0.000000e+00</td>\n",
       "      <td>27.0</td>\n",
       "      <td>7.000000e+01</td>\n",
       "      <td>5.470000e+02</td>\n",
       "    </tr>\n",
       "    <tr>\n",
       "      <th>enclosed_porch</th>\n",
       "      <td>2028.0</td>\n",
       "      <td>2.195000e+01</td>\n",
       "      <td>5.931000e+01</td>\n",
       "      <td>0.000000e+00</td>\n",
       "      <td>0.000000e+00</td>\n",
       "      <td>0.0</td>\n",
       "      <td>0.000000e+00</td>\n",
       "      <td>4.320000e+02</td>\n",
       "    </tr>\n",
       "    <tr>\n",
       "      <th>3ssn_porch</th>\n",
       "      <td>2028.0</td>\n",
       "      <td>2.580000e+00</td>\n",
       "      <td>2.530000e+01</td>\n",
       "      <td>0.000000e+00</td>\n",
       "      <td>0.000000e+00</td>\n",
       "      <td>0.0</td>\n",
       "      <td>0.000000e+00</td>\n",
       "      <td>5.080000e+02</td>\n",
       "    </tr>\n",
       "    <tr>\n",
       "      <th>screen_porch</th>\n",
       "      <td>2028.0</td>\n",
       "      <td>1.670000e+01</td>\n",
       "      <td>5.767000e+01</td>\n",
       "      <td>0.000000e+00</td>\n",
       "      <td>0.000000e+00</td>\n",
       "      <td>0.0</td>\n",
       "      <td>0.000000e+00</td>\n",
       "      <td>4.900000e+02</td>\n",
       "    </tr>\n",
       "    <tr>\n",
       "      <th>pool_area</th>\n",
       "      <td>2028.0</td>\n",
       "      <td>2.430000e+00</td>\n",
       "      <td>3.800000e+01</td>\n",
       "      <td>0.000000e+00</td>\n",
       "      <td>0.000000e+00</td>\n",
       "      <td>0.0</td>\n",
       "      <td>0.000000e+00</td>\n",
       "      <td>8.000000e+02</td>\n",
       "    </tr>\n",
       "    <tr>\n",
       "      <th>misc_val</th>\n",
       "      <td>2028.0</td>\n",
       "      <td>5.213000e+01</td>\n",
       "      <td>5.766100e+02</td>\n",
       "      <td>0.000000e+00</td>\n",
       "      <td>0.000000e+00</td>\n",
       "      <td>0.0</td>\n",
       "      <td>0.000000e+00</td>\n",
       "      <td>1.700000e+04</td>\n",
       "    </tr>\n",
       "    <tr>\n",
       "      <th>mo_sold</th>\n",
       "      <td>2028.0</td>\n",
       "      <td>6.210000e+00</td>\n",
       "      <td>2.740000e+00</td>\n",
       "      <td>1.000000e+00</td>\n",
       "      <td>4.000000e+00</td>\n",
       "      <td>6.0</td>\n",
       "      <td>8.000000e+00</td>\n",
       "      <td>1.200000e+01</td>\n",
       "    </tr>\n",
       "    <tr>\n",
       "      <th>yr_sold</th>\n",
       "      <td>2028.0</td>\n",
       "      <td>2.007770e+03</td>\n",
       "      <td>1.310000e+00</td>\n",
       "      <td>2.006000e+03</td>\n",
       "      <td>2.007000e+03</td>\n",
       "      <td>2008.0</td>\n",
       "      <td>2.009000e+03</td>\n",
       "      <td>2.010000e+03</td>\n",
       "    </tr>\n",
       "    <tr>\n",
       "      <th>saleprice</th>\n",
       "      <td>2028.0</td>\n",
       "      <td>1.825148e+05</td>\n",
       "      <td>7.889096e+04</td>\n",
       "      <td>1.278900e+04</td>\n",
       "      <td>1.300000e+05</td>\n",
       "      <td>163500.0</td>\n",
       "      <td>2.146000e+05</td>\n",
       "      <td>6.116570e+05</td>\n",
       "    </tr>\n",
       "    <tr>\n",
       "      <th>mas_vnr_BrkCmn</th>\n",
       "      <td>2028.0</td>\n",
       "      <td>1.000000e-02</td>\n",
       "      <td>1.100000e-01</td>\n",
       "      <td>0.000000e+00</td>\n",
       "      <td>0.000000e+00</td>\n",
       "      <td>0.0</td>\n",
       "      <td>0.000000e+00</td>\n",
       "      <td>1.000000e+00</td>\n",
       "    </tr>\n",
       "    <tr>\n",
       "      <th>mas_vnr_BrkFace</th>\n",
       "      <td>2028.0</td>\n",
       "      <td>7.500000e-01</td>\n",
       "      <td>4.300000e-01</td>\n",
       "      <td>0.000000e+00</td>\n",
       "      <td>1.000000e+00</td>\n",
       "      <td>1.0</td>\n",
       "      <td>1.000000e+00</td>\n",
       "      <td>1.000000e+00</td>\n",
       "    </tr>\n",
       "    <tr>\n",
       "      <th>mas_vnr_Stone</th>\n",
       "      <td>2028.0</td>\n",
       "      <td>2.200000e-01</td>\n",
       "      <td>4.100000e-01</td>\n",
       "      <td>0.000000e+00</td>\n",
       "      <td>0.000000e+00</td>\n",
       "      <td>0.0</td>\n",
       "      <td>0.000000e+00</td>\n",
       "      <td>1.000000e+00</td>\n",
       "    </tr>\n",
       "    <tr>\n",
       "      <th>fireplace_qu_Ex</th>\n",
       "      <td>2028.0</td>\n",
       "      <td>2.000000e-02</td>\n",
       "      <td>1.200000e-01</td>\n",
       "      <td>0.000000e+00</td>\n",
       "      <td>0.000000e+00</td>\n",
       "      <td>0.0</td>\n",
       "      <td>0.000000e+00</td>\n",
       "      <td>1.000000e+00</td>\n",
       "    </tr>\n",
       "    <tr>\n",
       "      <th>fireplace_qu_Fa</th>\n",
       "      <td>2028.0</td>\n",
       "      <td>3.000000e-02</td>\n",
       "      <td>1.700000e-01</td>\n",
       "      <td>0.000000e+00</td>\n",
       "      <td>0.000000e+00</td>\n",
       "      <td>0.0</td>\n",
       "      <td>0.000000e+00</td>\n",
       "      <td>1.000000e+00</td>\n",
       "    </tr>\n",
       "    <tr>\n",
       "      <th>fireplace_qu_Gd</th>\n",
       "      <td>2028.0</td>\n",
       "      <td>2.600000e-01</td>\n",
       "      <td>4.400000e-01</td>\n",
       "      <td>0.000000e+00</td>\n",
       "      <td>0.000000e+00</td>\n",
       "      <td>0.0</td>\n",
       "      <td>1.000000e+00</td>\n",
       "      <td>1.000000e+00</td>\n",
       "    </tr>\n",
       "    <tr>\n",
       "      <th>fireplace_qu_Po</th>\n",
       "      <td>2028.0</td>\n",
       "      <td>2.000000e-02</td>\n",
       "      <td>1.200000e-01</td>\n",
       "      <td>0.000000e+00</td>\n",
       "      <td>0.000000e+00</td>\n",
       "      <td>0.0</td>\n",
       "      <td>0.000000e+00</td>\n",
       "      <td>1.000000e+00</td>\n",
       "    </tr>\n",
       "    <tr>\n",
       "      <th>fireplace_qu_TA</th>\n",
       "      <td>2028.0</td>\n",
       "      <td>2.000000e-01</td>\n",
       "      <td>4.000000e-01</td>\n",
       "      <td>0.000000e+00</td>\n",
       "      <td>0.000000e+00</td>\n",
       "      <td>0.0</td>\n",
       "      <td>0.000000e+00</td>\n",
       "      <td>1.000000e+00</td>\n",
       "    </tr>\n",
       "    <tr>\n",
       "      <th>fence_GdPrv</th>\n",
       "      <td>2028.0</td>\n",
       "      <td>4.000000e-02</td>\n",
       "      <td>2.000000e-01</td>\n",
       "      <td>0.000000e+00</td>\n",
       "      <td>0.000000e+00</td>\n",
       "      <td>0.0</td>\n",
       "      <td>0.000000e+00</td>\n",
       "      <td>1.000000e+00</td>\n",
       "    </tr>\n",
       "    <tr>\n",
       "      <th>fence_GdWo</th>\n",
       "      <td>2028.0</td>\n",
       "      <td>4.000000e-02</td>\n",
       "      <td>1.900000e-01</td>\n",
       "      <td>0.000000e+00</td>\n",
       "      <td>0.000000e+00</td>\n",
       "      <td>0.0</td>\n",
       "      <td>0.000000e+00</td>\n",
       "      <td>1.000000e+00</td>\n",
       "    </tr>\n",
       "    <tr>\n",
       "      <th>fence_MnPrv</th>\n",
       "      <td>2028.0</td>\n",
       "      <td>1.100000e-01</td>\n",
       "      <td>3.100000e-01</td>\n",
       "      <td>0.000000e+00</td>\n",
       "      <td>0.000000e+00</td>\n",
       "      <td>0.0</td>\n",
       "      <td>0.000000e+00</td>\n",
       "      <td>1.000000e+00</td>\n",
       "    </tr>\n",
       "    <tr>\n",
       "      <th>fence_MnWw</th>\n",
       "      <td>2028.0</td>\n",
       "      <td>0.000000e+00</td>\n",
       "      <td>7.000000e-02</td>\n",
       "      <td>0.000000e+00</td>\n",
       "      <td>0.000000e+00</td>\n",
       "      <td>0.0</td>\n",
       "      <td>0.000000e+00</td>\n",
       "      <td>1.000000e+00</td>\n",
       "    </tr>\n",
       "  </tbody>\n",
       "</table>\n",
       "</div>"
      ],
      "text/plain": [
       "                  count          mean           std           min  \\\n",
       "id               2028.0  1.472260e+03  8.425900e+02  1.000000e+00   \n",
       "pid              2028.0  7.113676e+08  1.885943e+08  5.263011e+08   \n",
       "ms_subclass      2028.0  5.706000e+01  4.279000e+01  2.000000e+01   \n",
       "lot_frontage     2028.0  7.036000e+01  2.980000e+01  1.165000e+01   \n",
       "lot_area         2028.0  1.005968e+04  6.720860e+03  1.300000e+03   \n",
       "overall_qual     2028.0  6.140000e+00  1.410000e+00  1.000000e+00   \n",
       "overall_cond     2028.0  5.560000e+00  1.100000e+00  1.000000e+00   \n",
       "year_built       2028.0  1.972250e+03  2.984000e+01  1.872000e+03   \n",
       "year_remod/add   2028.0  1.984440e+03  2.091000e+01  1.950000e+03   \n",
       "mas_vnr_area     2028.0  9.975000e+01  1.749900e+02  0.000000e+00   \n",
       "bsmtfin_sf_1     2028.0  4.454100e+02  4.617200e+02  0.000000e+00   \n",
       "bsmtfin_sf_2     2028.0  4.848000e+01  1.658200e+02  0.000000e+00   \n",
       "bsmt_unf_sf      2028.0  5.691900e+02  4.457000e+02  0.000000e+00   \n",
       "total_bsmt_sf    2028.0  1.063070e+03  4.477900e+02  0.000000e+00   \n",
       "1st_flr_sf       2028.0  1.166620e+03  3.925000e+02  3.340000e+02   \n",
       "2nd_flr_sf       2028.0  3.306300e+02  4.266900e+02  0.000000e+00   \n",
       "low_qual_fin_sf  2028.0  5.320000e+00  5.010000e+01  0.000000e+00   \n",
       "gr_liv_area      2028.0  1.502570e+03  4.973600e+02  3.340000e+02   \n",
       "bsmt_full_bath   2028.0  4.300000e-01  5.200000e-01  0.000000e+00   \n",
       "bsmt_half_bath   2028.0  6.000000e-02  2.500000e-01  0.000000e+00   \n",
       "full_bath        2028.0  1.580000e+00  5.500000e-01  0.000000e+00   \n",
       "half_bath        2028.0  3.700000e-01  5.000000e-01  0.000000e+00   \n",
       "bedroom_abvgr    2028.0  2.850000e+00  8.200000e-01  0.000000e+00   \n",
       "kitchen_abvgr    2028.0  1.040000e+00  2.100000e-01  0.000000e+00   \n",
       "totrms_abvgrd    2028.0  6.440000e+00  1.560000e+00  2.000000e+00   \n",
       "fireplaces       2028.0  6.000000e-01  6.400000e-01  0.000000e+00   \n",
       "garage_yr_blt    1923.0  1.978920e+03  2.528000e+01  1.900000e+03   \n",
       "garage_cars      2028.0  1.790000e+00  7.600000e-01  0.000000e+00   \n",
       "garage_area      2028.0  4.761600e+02  2.144600e+02  0.000000e+00   \n",
       "wood_deck_sf     2028.0  9.463000e+01  1.289400e+02  0.000000e+00   \n",
       "open_porch_sf    2028.0  4.730000e+01  6.515000e+01  0.000000e+00   \n",
       "enclosed_porch   2028.0  2.195000e+01  5.931000e+01  0.000000e+00   \n",
       "3ssn_porch       2028.0  2.580000e+00  2.530000e+01  0.000000e+00   \n",
       "screen_porch     2028.0  1.670000e+01  5.767000e+01  0.000000e+00   \n",
       "pool_area        2028.0  2.430000e+00  3.800000e+01  0.000000e+00   \n",
       "misc_val         2028.0  5.213000e+01  5.766100e+02  0.000000e+00   \n",
       "mo_sold          2028.0  6.210000e+00  2.740000e+00  1.000000e+00   \n",
       "yr_sold          2028.0  2.007770e+03  1.310000e+00  2.006000e+03   \n",
       "saleprice        2028.0  1.825148e+05  7.889096e+04  1.278900e+04   \n",
       "mas_vnr_BrkCmn   2028.0  1.000000e-02  1.100000e-01  0.000000e+00   \n",
       "mas_vnr_BrkFace  2028.0  7.500000e-01  4.300000e-01  0.000000e+00   \n",
       "mas_vnr_Stone    2028.0  2.200000e-01  4.100000e-01  0.000000e+00   \n",
       "fireplace_qu_Ex  2028.0  2.000000e-02  1.200000e-01  0.000000e+00   \n",
       "fireplace_qu_Fa  2028.0  3.000000e-02  1.700000e-01  0.000000e+00   \n",
       "fireplace_qu_Gd  2028.0  2.600000e-01  4.400000e-01  0.000000e+00   \n",
       "fireplace_qu_Po  2028.0  2.000000e-02  1.200000e-01  0.000000e+00   \n",
       "fireplace_qu_TA  2028.0  2.000000e-01  4.000000e-01  0.000000e+00   \n",
       "fence_GdPrv      2028.0  4.000000e-02  2.000000e-01  0.000000e+00   \n",
       "fence_GdWo       2028.0  4.000000e-02  1.900000e-01  0.000000e+00   \n",
       "fence_MnPrv      2028.0  1.100000e-01  3.100000e-01  0.000000e+00   \n",
       "fence_MnWw       2028.0  0.000000e+00  7.000000e-02  0.000000e+00   \n",
       "\n",
       "                          25%          50%           75%           max  \n",
       "id               7.537500e+02       1480.5  2.190750e+03  2.930000e+03  \n",
       "pid              5.284580e+08  535451105.0  9.071311e+08  9.241520e+08  \n",
       "ms_subclass      2.000000e+01         50.0  7.000000e+01  1.900000e+02  \n",
       "lot_frontage     5.700000e+01         68.0  8.000000e+01  4.724700e+02  \n",
       "lot_area         7.500000e+03       9465.0  1.155550e+04  1.590000e+05  \n",
       "overall_qual     5.000000e+00          6.0  7.000000e+00  1.000000e+01  \n",
       "overall_cond     5.000000e+00          5.0  6.000000e+00  9.000000e+00  \n",
       "year_built       1.954000e+03       1975.0  2.001000e+03  2.010000e+03  \n",
       "year_remod/add   1.965000e+03       1993.0  2.004000e+03  2.010000e+03  \n",
       "mas_vnr_area     0.000000e+00          0.0  1.612500e+02  1.600000e+03  \n",
       "bsmtfin_sf_1     0.000000e+00        372.5  7.362500e+02  5.644000e+03  \n",
       "bsmtfin_sf_2     0.000000e+00          0.0  0.000000e+00  1.474000e+03  \n",
       "bsmt_unf_sf      2.217500e+02        475.0  8.115000e+02  2.336000e+03  \n",
       "total_bsmt_sf    7.960000e+02       1001.0  1.325250e+03  6.110000e+03  \n",
       "1st_flr_sf       8.820000e+02       1096.0  1.411000e+03  5.095000e+03  \n",
       "2nd_flr_sf       0.000000e+00          0.0  6.985000e+02  1.862000e+03  \n",
       "low_qual_fin_sf  0.000000e+00          0.0  0.000000e+00  1.064000e+03  \n",
       "gr_liv_area      1.135750e+03       1452.5  1.731250e+03  5.642000e+03  \n",
       "bsmt_full_bath   0.000000e+00          0.0  1.000000e+00  3.000000e+00  \n",
       "bsmt_half_bath   0.000000e+00          0.0  0.000000e+00  2.000000e+00  \n",
       "full_bath        1.000000e+00          2.0  2.000000e+00  4.000000e+00  \n",
       "half_bath        0.000000e+00          0.0  1.000000e+00  2.000000e+00  \n",
       "bedroom_abvgr    2.000000e+00          3.0  3.000000e+00  8.000000e+00  \n",
       "kitchen_abvgr    1.000000e+00          1.0  1.000000e+00  3.000000e+00  \n",
       "totrms_abvgrd    5.000000e+00          6.0  7.000000e+00  1.500000e+01  \n",
       "fireplaces       0.000000e+00          1.0  1.000000e+00  4.000000e+00  \n",
       "garage_yr_blt    1.961000e+03       1980.0  2.002000e+03  2.207000e+03  \n",
       "garage_cars      1.000000e+00          2.0  2.000000e+00  5.000000e+00  \n",
       "garage_area      3.267500e+02        480.0  5.760000e+02  1.418000e+03  \n",
       "wood_deck_sf     0.000000e+00          0.0  1.680000e+02  1.424000e+03  \n",
       "open_porch_sf    0.000000e+00         27.0  7.000000e+01  5.470000e+02  \n",
       "enclosed_porch   0.000000e+00          0.0  0.000000e+00  4.320000e+02  \n",
       "3ssn_porch       0.000000e+00          0.0  0.000000e+00  5.080000e+02  \n",
       "screen_porch     0.000000e+00          0.0  0.000000e+00  4.900000e+02  \n",
       "pool_area        0.000000e+00          0.0  0.000000e+00  8.000000e+02  \n",
       "misc_val         0.000000e+00          0.0  0.000000e+00  1.700000e+04  \n",
       "mo_sold          4.000000e+00          6.0  8.000000e+00  1.200000e+01  \n",
       "yr_sold          2.007000e+03       2008.0  2.009000e+03  2.010000e+03  \n",
       "saleprice        1.300000e+05     163500.0  2.146000e+05  6.116570e+05  \n",
       "mas_vnr_BrkCmn   0.000000e+00          0.0  0.000000e+00  1.000000e+00  \n",
       "mas_vnr_BrkFace  1.000000e+00          1.0  1.000000e+00  1.000000e+00  \n",
       "mas_vnr_Stone    0.000000e+00          0.0  0.000000e+00  1.000000e+00  \n",
       "fireplace_qu_Ex  0.000000e+00          0.0  0.000000e+00  1.000000e+00  \n",
       "fireplace_qu_Fa  0.000000e+00          0.0  0.000000e+00  1.000000e+00  \n",
       "fireplace_qu_Gd  0.000000e+00          0.0  1.000000e+00  1.000000e+00  \n",
       "fireplace_qu_Po  0.000000e+00          0.0  0.000000e+00  1.000000e+00  \n",
       "fireplace_qu_TA  0.000000e+00          0.0  0.000000e+00  1.000000e+00  \n",
       "fence_GdPrv      0.000000e+00          0.0  0.000000e+00  1.000000e+00  \n",
       "fence_GdWo       0.000000e+00          0.0  0.000000e+00  1.000000e+00  \n",
       "fence_MnPrv      0.000000e+00          0.0  0.000000e+00  1.000000e+00  \n",
       "fence_MnWw       0.000000e+00          0.0  0.000000e+00  1.000000e+00  "
      ]
     },
     "execution_count": 22,
     "metadata": {},
     "output_type": "execute_result"
    }
   ],
   "source": [
    "ames.describe().round(2).T"
   ]
  },
  {
   "cell_type": "code",
   "execution_count": 23,
   "metadata": {
    "scrolled": false
   },
   "outputs": [
    {
     "data": {
      "image/png": "[encoded data removed]",
      "text/plain": [
       "<Figure size 1008x720 with 1 Axes>"
      ]
     },
     "metadata": {},
     "output_type": "display_data"
    }
   ],
   "source": [
    "#let's take a look at the distribution of sale price\n",
    "plt.figure(figsize=(14,10))\n",
    "plt.hist(ames['saleprice'])\n",
    "plt.title('Sale Price Histogram',fontsize=30)\n",
    "plt.xlabel('Sale Price ($)',fontsize=15);"
   ]
  },
  {
   "cell_type": "markdown",
   "metadata": {},
   "source": [
    "##### Observation of the distribution\n",
    "The distribution of sale prices is skewed to the right, given the long tail of the curve. This means that the median is less than the mean. "
   ]
  },
  {
   "cell_type": "markdown",
   "metadata": {},
   "source": [
    "#### Identifying variables for the features matrix \n",
    "First, we check for variable with the strongest correlation to sale prices\n",
    "\n",
    "Naturally, we would expect property size variables to be the most strongly correlated. Following that, we will be having a closer look at location variables, condition variables and lastly, amenities. \n",
    "\n",
    "We will pick approximately 5 variables (if possible) from each of the categories"
   ]
  },
  {
   "cell_type": "code",
   "execution_count": 43,
   "metadata": {
    "scrolled": false
   },
   "outputs": [
    {
     "data": {
      "text/plain": [
       "saleprice    0.025277\n",
       "Name: pool_area, dtype: float64"
      ]
     },
     "execution_count": 43,
     "metadata": {},
     "output_type": "execute_result"
    }
   ],
   "source": [
    "num_corr=pd.DataFrame(ames.corr()['saleprice'].sort_values(ascending=False))\n",
    "num_corr.loc['pool_area']\n",
    "#this only shows the corr of numerical variables, not categorical"
   ]
  },
  {
   "cell_type": "markdown",
   "metadata": {},
   "source": [
    "#### List of potential numerical variables\n",
    "1. overall_qual (amenities)\n",
    "2. gr_liv_area (property size)\n",
    "3. total_bsmt_sf (amenities, property size)\n",
    "4. garage_area (amenities, property size)\n",
    "5. year_built (condition)\n",
    "6. full_bath (amenities)\n",
    "7. mas_vnr_area (amenities)\n",
    "8. totrms_abvgrd (property size, amnenities)\n",
    "9. fireplace_qu_Gd (amenities\n",
    "10. lot_area (property size)\n",
    "11. year_remod/add (condition)"
   ]
  },
  {
   "cell_type": "code",
   "execution_count": 33,
   "metadata": {
    "collapsed": true
   },
   "outputs": [],
   "source": [
    "features=['overall_qual','gr_liv_area','total_bsmt_sf','garage_area','year_built',\n",
    "         'full_bath','mas_vnr_area','totrms_abvgrd','fireplace_qu_Gd','lot_area',\n",
    "         'year_remod']"
   ]
  },
  {
   "cell_type": "code",
   "execution_count": 26,
   "metadata": {
    "scrolled": false
   },
   "outputs": [
    {
     "data": {
      "text/plain": [
       "''"
      ]
     },
     "execution_count": 26,
     "metadata": {},
     "output_type": "execute_result"
    },
    {
     "data": {
      "image/png": "[encoded data removed]",
      "text/plain": [
       "<Figure size 864x720 with 1 Axes>"
      ]
     },
     "metadata": {},
     "output_type": "display_data"
    }
   ],
   "source": [
    "#since gr_liv_area has a strong correlation with saleprice, let's see it \n",
    "#in a scatter plot\n",
    "plt.figure(figsize=(12,10))\n",
    "plt.scatter(ames['gr_liv_area'],ames['saleprice'])\n",
    "\n",
    "plt.title('Sale Prices of Homes Sold by Square Feet of Living Area',fontsize=25)\n",
    "plt.ylabel('Sale Prices of Homes Sold',fontsize=20)\n",
    "plt.xlabel('Square Feet of Living Area',fontsize=20)\n",
    ";"
   ]
  },
  {
   "cell_type": "markdown",
   "metadata": {},
   "source": [
    "##### Observations\n",
    "There is a strong correlation between the sale prices and the square feet of living area. We will definitely be including this in our model. \n",
    "\n",
    "Here we can see that there are 2 houses with extremely huge living areas being sold at abonormally low prices. \n",
    "There are likely outliers. let's confirm with a boxplot. "
   ]
  },
  {
   "cell_type": "code",
   "execution_count": 27,
   "metadata": {},
   "outputs": [
    {
     "data": {
      "text/plain": [
       "3989.374418356778"
      ]
     },
     "execution_count": 27,
     "metadata": {},
     "output_type": "execute_result"
    },
    {
     "data": {
      "image/png": "[encoded data removed]",
      "text/plain": [
       "<Figure size 720x576 with 1 Axes>"
      ]
     },
     "metadata": {},
     "output_type": "display_data"
    }
   ],
   "source": [
    "plt.figure(figsize=(10,8))\n",
    "\n",
    "plt.boxplot(ames['gr_liv_area'],showmeans=True)\n",
    "plt.title('Boxplot of the square feet of living area',fontsize=25)\n",
    "plt.ylabel('Square Feet of Living Area',fontsize=20);\n",
    "\n",
    "#to further confirm, we will calculate the number of std away from the mean\n",
    "ames['gr_liv_area'].mean()+5*ames['gr_liv_area'].std()\n",
    "\n",
    "#since the outliers are more than 5std away from the mean, we will remove them from the dataset"
   ]
  },
  {
   "cell_type": "code",
   "execution_count": 28,
   "metadata": {
    "collapsed": true
   },
   "outputs": [],
   "source": [
    "#drop the outliers\n",
    "ames.drop(list(ames[ames['gr_liv_area']>4000].index),inplace=True)"
   ]
  },
  {
   "cell_type": "code",
   "execution_count": 29,
   "metadata": {
    "scrolled": true
   },
   "outputs": [
    {
     "data": {
      "text/plain": [
       "(2026, 87)"
      ]
     },
     "execution_count": 29,
     "metadata": {},
     "output_type": "execute_result"
    }
   ],
   "source": [
    "#confirm changes\n",
    "ames.shape"
   ]
  },
  {
   "cell_type": "code",
   "execution_count": 30,
   "metadata": {
    "scrolled": false
   },
   "outputs": [
    {
     "data": {
      "image/png": "[encoded data removed]",
      "text/plain": [
       "<Figure size 864x720 with 1 Axes>"
      ]
     },
     "metadata": {},
     "output_type": "display_data"
    }
   ],
   "source": [
    "plt.figure(figsize=(12,10))\n",
    "plt.scatter(ames['neighborhood'],ames['saleprice'])\n",
    "\n",
    "plt.title('Sale Prices of Homes Sold by Neighborhood',fontsize=25)\n",
    "plt.ylabel('Sale Prices of Homes Sold',fontsize=20)\n",
    "plt.xlabel('Neighborhood of Homes Sold',fontsize=20)\n",
    "plt.xticks(rotation=45);"
   ]
  },
  {
   "cell_type": "code",
   "execution_count": 31,
   "metadata": {},
   "outputs": [
    {
     "data": {
      "text/plain": [
       "(2026, 113)"
      ]
     },
     "execution_count": 31,
     "metadata": {},
     "output_type": "execute_result"
    }
   ],
   "source": [
    "#since neighborhood is an important indicator of location,\n",
    "#we will convert it to a dummy variable\n",
    "neighborhood_dums=pd.get_dummies(ames['neighborhood'],prefix='nbhd',drop_first=True)\n",
    "#concat to ames df\n",
    "ames=pd.concat([ames,neighborhood_dums],axis=1)\n",
    "\n",
    "#drop mas_vnr_type column\n",
    "ames.drop('neighborhood',axis=1,inplace=True)\n",
    "ames.shape"
   ]
  },
  {
   "cell_type": "code",
   "execution_count": 35,
   "metadata": {},
   "outputs": [
    {
     "data": {
      "text/plain": [
       "['overall_qual',\n",
       " 'gr_liv_area',\n",
       " 'total_bsmt_sf',\n",
       " 'garage_area',\n",
       " 'year_built',\n",
       " 'full_bath',\n",
       " 'mas_vnr_area',\n",
       " 'totrms_abvgrd',\n",
       " 'fireplace_qu_Gd',\n",
       " 'lot_area',\n",
       " 'year_remod',\n",
       " 'nbhd_Blueste',\n",
       " 'nbhd_BrDale',\n",
       " 'nbhd_BrkSide',\n",
       " 'nbhd_ClearCr',\n",
       " 'nbhd_CollgCr',\n",
       " 'nbhd_Crawfor',\n",
       " 'nbhd_Edwards',\n",
       " 'nbhd_Gilbert',\n",
       " 'nbhd_Greens',\n",
       " 'nbhd_GrnHill',\n",
       " 'nbhd_IDOTRR',\n",
       " 'nbhd_Landmrk',\n",
       " 'nbhd_MeadowV',\n",
       " 'nbhd_Mitchel',\n",
       " 'nbhd_NAmes',\n",
       " 'nbhd_NPkVill',\n",
       " 'nbhd_NWAmes',\n",
       " 'nbhd_NoRidge',\n",
       " 'nbhd_NridgHt',\n",
       " 'nbhd_OldTown',\n",
       " 'nbhd_SWISU',\n",
       " 'nbhd_Sawyer',\n",
       " 'nbhd_SawyerW',\n",
       " 'nbhd_Somerst',\n",
       " 'nbhd_StoneBr',\n",
       " 'nbhd_Timber',\n",
       " 'nbhd_Veenker']"
      ]
     },
     "execution_count": 35,
     "metadata": {},
     "output_type": "execute_result"
    }
   ],
   "source": [
    "#add it to features\n",
    "for nbhd in neighborhood_dums.columns:\n",
    "    features.append(nbhd)\n",
    "features"
   ]
  },
  {
   "cell_type": "code",
   "execution_count": 36,
   "metadata": {},
   "outputs": [
    {
     "data": {
      "text/plain": [
       "''"
      ]
     },
     "execution_count": 36,
     "metadata": {},
     "output_type": "execute_result"
    },
    {
     "data": {
      "image/png": "[encoded data removed]",
      "text/plain": [
       "<Figure size 864x720 with 1 Axes>"
      ]
     },
     "metadata": {},
     "output_type": "display_data"
    }
   ],
   "source": [
    "#given that the sales years includes the subprime financial crisis, there will definitely be an impact\n",
    "#in sale prices\n",
    "saleprice_yr=ames.groupby('yr_sold')['saleprice'].mean()\n",
    "\n",
    "plt.figure(figsize=(12,10))\n",
    "plt.plot(saleprice_yr)\n",
    "\n",
    "plt.title('Mean Sale Prices of Homes Sold by Year',fontsize=25)\n",
    "plt.ylabel('Sale Prices of Homes Sold ($)',fontsize=20)\n",
    "plt.xlabel('Year Sold',fontsize=20,)\n",
    ";"
   ]
  },
  {
   "cell_type": "code",
   "execution_count": 37,
   "metadata": {},
   "outputs": [
    {
     "data": {
      "text/html": [
       "<div>\n",
       "<style scoped>\n",
       "    .dataframe tbody tr th:only-of-type {\n",
       "        vertical-align: middle;\n",
       "    }\n",
       "\n",
       "    .dataframe tbody tr th {\n",
       "        vertical-align: top;\n",
       "    }\n",
       "\n",
       "    .dataframe thead th {\n",
       "        text-align: right;\n",
       "    }\n",
       "</style>\n",
       "<table border=\"1\" class=\"dataframe\">\n",
       "  <thead>\n",
       "    <tr style=\"text-align: right;\">\n",
       "      <th></th>\n",
       "      <th>yr_sold</th>\n",
       "      <th>mo_sold</th>\n",
       "    </tr>\n",
       "  </thead>\n",
       "  <tbody>\n",
       "    <tr>\n",
       "      <th>0</th>\n",
       "      <td>2010</td>\n",
       "      <td>3</td>\n",
       "    </tr>\n",
       "    <tr>\n",
       "      <th>1</th>\n",
       "      <td>2009</td>\n",
       "      <td>4</td>\n",
       "    </tr>\n",
       "    <tr>\n",
       "      <th>2</th>\n",
       "      <td>2010</td>\n",
       "      <td>1</td>\n",
       "    </tr>\n",
       "    <tr>\n",
       "      <th>3</th>\n",
       "      <td>2010</td>\n",
       "      <td>4</td>\n",
       "    </tr>\n",
       "    <tr>\n",
       "      <th>4</th>\n",
       "      <td>2010</td>\n",
       "      <td>3</td>\n",
       "    </tr>\n",
       "  </tbody>\n",
       "</table>\n",
       "</div>"
      ],
      "text/plain": [
       "   yr_sold  mo_sold\n",
       "0     2010        3\n",
       "1     2009        4\n",
       "2     2010        1\n",
       "3     2010        4\n",
       "4     2010        3"
      ]
     },
     "execution_count": 37,
     "metadata": {},
     "output_type": "execute_result"
    }
   ],
   "source": [
    "#using this to check the data column we are going to create\n",
    "ames[['yr_sold','mo_sold']].head()"
   ]
  },
  {
   "cell_type": "code",
   "execution_count": 38,
   "metadata": {},
   "outputs": [],
   "source": [
    "#since we can see that there is some effect of the year on the sale price, we will look deeper into it\n",
    "\n",
    "#let's create a date_sold column\n",
    "ames['date_sold']=pd.to_datetime(ames['mo_sold'].astype(str)+'-'+ames['yr_sold'].astype(str))"
   ]
  },
  {
   "cell_type": "code",
   "execution_count": 39,
   "metadata": {},
   "outputs": [
    {
     "data": {
      "text/plain": [
       "0   2010-03-01\n",
       "1   2009-04-01\n",
       "2   2010-01-01\n",
       "3   2010-04-01\n",
       "4   2010-03-01\n",
       "Name: date_sold, dtype: datetime64[ns]"
      ]
     },
     "execution_count": 39,
     "metadata": {},
     "output_type": "execute_result"
    }
   ],
   "source": [
    "#check against the yr and mo sold printed above\n",
    "ames['date_sold'].head()"
   ]
  },
  {
   "cell_type": "code",
   "execution_count": 45,
   "metadata": {},
   "outputs": [
    {
     "data": {
      "text/plain": [
       "['overall_qual',\n",
       " 'gr_liv_area',\n",
       " 'total_bsmt_sf',\n",
       " 'garage_area',\n",
       " 'year_built',\n",
       " 'full_bath',\n",
       " 'mas_vnr_area',\n",
       " 'totrms_abvgrd',\n",
       " 'fireplace_qu_Gd',\n",
       " 'lot_area',\n",
       " 'year_remod',\n",
       " 'nbhd_Blueste',\n",
       " 'nbhd_BrDale',\n",
       " 'nbhd_BrkSide',\n",
       " 'nbhd_ClearCr',\n",
       " 'nbhd_CollgCr',\n",
       " 'nbhd_Crawfor',\n",
       " 'nbhd_Edwards',\n",
       " 'nbhd_Gilbert',\n",
       " 'nbhd_Greens',\n",
       " 'nbhd_GrnHill',\n",
       " 'nbhd_IDOTRR',\n",
       " 'nbhd_Landmrk',\n",
       " 'nbhd_MeadowV',\n",
       " 'nbhd_Mitchel',\n",
       " 'nbhd_NAmes',\n",
       " 'nbhd_NPkVill',\n",
       " 'nbhd_NWAmes',\n",
       " 'nbhd_NoRidge',\n",
       " 'nbhd_NridgHt',\n",
       " 'nbhd_OldTown',\n",
       " 'nbhd_SWISU',\n",
       " 'nbhd_Sawyer',\n",
       " 'nbhd_SawyerW',\n",
       " 'nbhd_Somerst',\n",
       " 'nbhd_StoneBr',\n",
       " 'nbhd_Timber',\n",
       " 'nbhd_Veenker',\n",
       " 'date_sold',\n",
       " 'date_sold',\n",
       " 'date_sold']"
      ]
     },
     "execution_count": 45,
     "metadata": {},
     "output_type": "execute_result"
    }
   ],
   "source": [
    "#now we add date_sold to the feature list\n",
    "features.append('date_sold')\n",
    "features"
   ]
  },
  {
   "cell_type": "code",
   "execution_count": 41,
   "metadata": {},
   "outputs": [
    {
     "data": {
      "image/png": "[encoded data removed]",
      "text/plain": [
       "<Figure size 864x720 with 1 Axes>"
      ]
     },
     "metadata": {},
     "output_type": "display_data"
    }
   ],
   "source": [
    "#let's see the date_sold to saleprices now\n",
    "saleprice_yr=ames.groupby('date_sold')['saleprice'].mean()\n",
    "\n",
    "plt.figure(figsize=(12,10))\n",
    "plt.plot(saleprice_yr)\n",
    "\n",
    "plt.title('Mean Sale Prices of Homes Sold by date',fontsize=25)\n",
    "plt.ylabel('Sale Prices of Homes Sold ($)',fontsize=20)\n",
    "plt.xlabel('Date Sold',fontsize=20,);"
   ]
  },
  {
   "cell_type": "markdown",
   "metadata": {},
   "source": [
    "#### Next Steps:\n",
    "Having now gotten most of the features that we want, we will now proceed to establishing a baseline for our model in the preprocessing and modeling notebook.\n",
    "- [Preprocessing and Modeling](./preprocessing_modeling.ipynb)"
   ]
  }
 ],
 "metadata": {
  "kernelspec": {
   "display_name": "Python 3",
   "language": "python",
   "name": "python3"
  },
  "language_info": {
   "codemirror_mode": {
    "name": "ipython",
    "version": 3
   },
   "file_extension": ".py",
   "mimetype": "text/x-python",
   "name": "python",
   "nbconvert_exporter": "python",
   "pygments_lexer": "ipython3",
   "version": "3.6.3"
  }
 },
 "nbformat": 4,
 "nbformat_minor": 2
}
